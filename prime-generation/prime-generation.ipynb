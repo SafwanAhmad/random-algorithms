{
 "cells": [
  {
   "cell_type": "code",
   "execution_count": 11,
   "metadata": {
    "collapsed": true
   },
   "outputs": [],
   "source": [
    "import numpy as np\n",
    "\n",
    "def fastprimes(n):\n",
    "    primes = np.ones((n+1,), dtype=bool)\n",
    "    primes[:2] = False\n",
    "    \n",
    "    N_MAX = int(np.sqrt(len(primes)))\n",
    "    \n",
    "    for candidate in range(2,N_MAX+1):\n",
    "        primes[candidate*candidate::candidate] = False\n",
    "        \n",
    "    return np.where(primes == True)[0]"
   ]
  },
  {
   "cell_type": "code",
   "execution_count": 12,
   "metadata": {
    "collapsed": true
   },
   "outputs": [],
   "source": [
    "!javac *.java\n",
    "java_classes = !ls *.class"
   ]
  },
  {
   "cell_type": "code",
   "execution_count": 13,
   "metadata": {
    "collapsed": false
   },
   "outputs": [
    {
     "name": "stdout",
     "output_type": "stream",
     "text": [
      "Now running FastPrimeSieve\n",
      "4 primes generated in 0ms.\n",
      "25 primes generated in 0ms.\n",
      "168 primes generated in 0ms.\n",
      "1229 primes generated in 2ms.\n",
      "9592 primes generated in 7ms.\n",
      "78498 primes generated in 16ms.\n",
      "664579 primes generated in 127ms.\n",
      "\n",
      "\n",
      "Now running PrimeSieve\n",
      "4 primes generated in 1ms.\n",
      "25 primes generated in 0ms.\n",
      "168 primes generated in 3ms.\n",
      "1229 primes generated in 15ms.\n",
      "9592 primes generated in 25ms.\n",
      "78498 primes generated in 149ms.\n",
      "664579 primes generated in 2453ms.\n",
      "\n",
      "\n",
      "Now running TrialDivisionPrime\n",
      "4 primes generated in 0ms.\n",
      "25 primes generated in 1ms.\n",
      "168 primes generated in 1ms.\n",
      "1229 primes generated in 2ms.\n",
      "9592 primes generated in 15ms.\n",
      "78498 primes generated in 254ms.\n",
      "664579 primes generated in 6423ms.\n",
      "\n",
      "\n"
     ]
    }
   ],
   "source": [
    "import re\n",
    "\n",
    "\n",
    "\n",
    "f = open(\"ranges.txt\",\"r\")\n",
    "\n",
    "tmpfilename = \"pipe.txt\"\n",
    "\n",
    "\n",
    "tests = int(f.readline())\n",
    "\n",
    "\"\"\"Read all contents of file in one go, split into lines and convert each line to an integer.\"\"\"\n",
    "limits = map(int,f.read().splitlines())\n",
    "\n",
    "timestats = [[0 for x in range(len(limits))] for x in range(len(java_classes))]\n",
    "for fileindex,filename in enumerate(java_classes):\n",
    "    f.seek(0)\n",
    "    classname = filename.replace(\".class\",\"\")\n",
    "    \n",
    "    print(\"Now running \"+classname)\n",
    "    for limitindex,limit in enumerate(limits):\n",
    "        \n",
    "        trueprimes = fastprimes(limit)\n",
    "        count = trueprimes.size\n",
    "        \n",
    "        t = open(tmpfilename,\"w\")\n",
    "        \"\"\"Set number of test cases to 1.\"\"\"\n",
    "        \"\"\"Write out the upper limit for this test case.\"\"\"\n",
    "        t.write(str(1)+'\\n'+str(limit))\n",
    "        t.close()\n",
    "        \n",
    "        \n",
    "        output = !java {classname} < {tmpfilename}\n",
    "\n",
    "        testprimes  = map(int,output[0:count])\n",
    "        \n",
    "        statsline = len(output)-1\n",
    "        while output[statsline].strip() == \"\":\n",
    "            statsline -= 1\n",
    "        \n",
    "        statsline = output[statsline]\n",
    "        \n",
    "        if(np.all(trueprimes != testprimes)):\n",
    "            raise Exception(\"Incorrect output for \"+filename+'.java .'+'Desired number of primes:'+str(limit))\n",
    "        \n",
    "        millis = re.findall(\"\\d+\",statsline)[1]\n",
    "        timestats[fileindex][limitindex] = int(millis)\n",
    "        \n",
    "        print(statsline)\n",
    "        \n",
    "    print(\"\\n\")\n",
    "    \n",
    "t.close()\n",
    "f.close()"
   ]
  },
  {
   "cell_type": "code",
   "execution_count": 18,
   "metadata": {
    "collapsed": false
   },
   "outputs": [
    {
     "data": {
      "image/png": "[encoded data removed]",
      "text/plain": [
       "<matplotlib.figure.Figure at 0x7f766acb8dd0>"
      ]
     },
     "metadata": {},
     "output_type": "display_data"
    }
   ],
   "source": [
    "%matplotlib inline\n",
    "import matplotlib.pyplot as plt\n",
    "plt.plot(limits,timestats[0],'r--')\n",
    "plt.plot(limits,timestats[1],'g--')\n",
    "plt.plot(limits,timestats[2],'b--')\n",
    "plt.xlabel(\"Range Of Primes\")\n",
    "plt.ylabel(\"Execution Time In ms.\")\n",
    "plt.legend(java_classes,loc=\"upper left\")\n",
    "plt.show()\n"
   ]
  }
 ],
 "metadata": {
  "kernelspec": {
   "display_name": "Python 2",
   "language": "python",
   "name": "python2"
  },
  "language_info": {
   "codemirror_mode": {
    "name": "ipython",
    "version": 2
   },
   "file_extension": ".py",
   "mimetype": "text/x-python",
   "name": "python",
   "nbconvert_exporter": "python",
   "pygments_lexer": "ipython2",
   "version": "2.7.10"
  }
 },
 "nbformat": 4,
 "nbformat_minor": 0
}
